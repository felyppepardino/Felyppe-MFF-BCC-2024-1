{
  "nbformat": 4,
  "nbformat_minor": 0,
  "metadata": {
    "colab": {
      "provenance": [],
      "include_colab_link": true
    },
    "kernelspec": {
      "name": "python3",
      "display_name": "Python 3"
    },
    "language_info": {
      "name": "python"
    }
  },
  "cells": [
    {
      "cell_type": "markdown",
      "metadata": {
        "id": "view-in-github",
        "colab_type": "text"
      },
      "source": [
        "<a href=\"https://colab.research.google.com/github/felyppepardino/Felyppe-MFF-BCC-2024-1/blob/main/Felyppe_Exame_2024_1.ipynb\" target=\"_parent\"><img src=\"https://colab.research.google.com/assets/colab-badge.svg\" alt=\"Open In Colab\"/></a>"
      ]
    },
    {
      "cell_type": "markdown",
      "source": [
        "# Avaliação Individual -  Exame - 2024-1\n",
        "\n",
        "**Antes de começar, leia estas instruções cuidadosamente.**\n",
        "Esta avaliação é individual. Você poderá consultar qualquer fonte disponível na biblioteca, suas anotações ou na internet. Você não pode consultar outras pessoas mesmo por meio eletrônico.\n",
        "\n",
        "**Crie uma cópia deste caderno agora!** E continue lendo as instruções nesta cópia.\n",
        "\n",
        "**Não existirão prorrogações de prazo de entrega.** Se programe para entregar sua avaliação 5 minutos antes do fim do prazo para evitar imprevistos de última hora.\n",
        "\n",
        "**Trabalhos idênticos entregues por pessoas, diferentes, serão zerados.** Todos os trabalhos poderão ser submetidos a verificação de plágio. Por meio do sistema de instituição ou outro qualquer disponível na internet. Isso significa que respostas copiadas e coladas de sistemas de inteligência artificial que sejam classificados com semelhança maior que 70% também serão zerados. Qualquer diagnóstico indicativo de plágio acima de 70% também irá provocar o zeramento da avaliação.\n",
        "\n",
        "Para que sua avaliação seja considerada **ela deve ser entregues em uma cópia deste caderno de atividades na forma de um link postado no AVA da instituição (Canvas)** apenas no local correspondente a essa entrega na avaliação. Qualquer link enviado em comentários, e-mails, mensagens de Whatsapp, ou qualquer outro meio eletrônico serão ignorados provocando o zeramento desta avaliação.\n",
        "\n",
        "Entrega será realizada com a postagem de um link apontando para um ambiente de execução (Google Colab), no AVA da institução. Neste link o **seu caderno deve permitir ser executado (permissão de leitor)**. Serão aceitos links diretos ao ambiente do Google Colaboratory, ou Links a um caderno do Google Colaboratory que tenha sido **salvo pelo próprio Google Colaboratory** no GitHub. Links para outros ambientes, ou que requeiram qualquer tipo de **download, cliques extras, ou ainda, que requeiram aprovação para acesso, provocarão o zeramento desta avaliação**.\n",
        "\n",
        "Antes de enviar o seu trabalho, teste o compartilhamento em uma aba anônima do seu navegador web preferido.\n",
        "\n",
        "Todos os enunciados devem ser preservados e você deverá inserir uma célula de textos com o **seu nome, IMEDIATATAMENTE APÓS esta célula de texto** onde estão estas instruções.\n",
        "\n",
        "**Qualquer alteração do caderno contendo as suas respostas que seja registrada após a data de postagem provocará a anulação da avaliação**.\n",
        "\n",
        "Você poderá usar, nas suas respostas, só e somente só, a **linguagem Python** limitada ao uso das seguintes bibliotecas: **math, numpy, sympy, matplotlib, ipWidgets e IPython**. O uso de qualquer biblioteca não listada nestas instruções irá provocar o zeramento da questão.\n",
        "\n",
        "**Todo e qualquer gráfico que usar nas suas respostas deverá ser criado usando o Python**.\n",
        "\n",
        "**Todas as questões devem ser respondidas em caixas de texto, usando latex para permitir a renderização com qualidade matemática.** Exceto quando a questão indicar que você pode usar qualquer técnica computacional. Neste caso, as técnicas estarão limitadas as técnicas vistas em sala e as técnicas baseadas no retângulo de Reimann.\n",
        "\n",
        "Toda e qualquer questão que exija a solução algébrica deve conter todos os passos e estar escrita em latex para garantir a renderização com qualidade matemática.\n",
        "\n",
        "Não é permitido usar qualquer técnica matemática baseada em cálculo numérico, séries de Taylor. de Leibntz, ou de qualquer outro tipo, ou ainda conhecimento matemático que fuja dos conteúdos apresenados em aula referentes ao estudo da integração, diferenciação ou limites.\n",
        "\n",
        "**Você poderá utilizar técnicas numéricas para calcular áreas, ou para encontrar o polinômio referente a um dado conjunto de pontos. Ainda a sim, sua resposta deve ser explicada em uma caixa de textos, usando latex para as equações matemáticas. Estas técnicas estão limitadas as técnicas apresentadas em sala (Reimann e Lagrange)**.\n",
        "\n",
        "**Esta avaliação está limitada a conteúdo de técnicas, regras e conceitos de integração, derivação e limites**. Mas não abrange L'opital. O uso de técnicas de derivação está limitado as técnicas apresentadas em sala. Estando exclúidos qualquer método que inclua o uso de séries.\n",
        "\n",
        "Se você encontrar algo errado nesta avaliação anote suas observações na própria questão. Suas observações serão consideradas durante a avaliação e, em caso de pertinência, poderão encejar a anulação do item, ou da questão relacionados ao erro que você encontrou de acordo com os critérios do professor.\n",
        "\n",
        "**ATENÇÃO: TODAS AS QUESTÕES DEVEM SER RESPONDIDAS NA CÉLULA EM BRANCO QUE EXISTE APÓS CADA ENUNCIADO. OS ENUNCIADOS TÊM QUE SER PRESERVADOS.** Se, por algum motivo, ao fazer a cópia deste caderno de questões você perder as células em branco, deve criar uma nova célula após cada enunciado para colocar sua resposta. Você poderá criar quantas células de texto, ou código, precisar desde que estas células estejam entre a questão que você está respondendo e a próxima questão deste caderno.\n",
        "\n",
        "**Lembrem-se a interpretação faz parte da questão.**\n",
        "\n",
        "**Rubrica de Avaliação**: As questões serão consideradas corretas se, e somente se, apresentarem a resposta correta, o processo algébrico estiver claro, completo e conciso (nenhuma passagem não explicada), os gráficos contiverem todas as informações necessárias ao seu entendimento. E não existirem duas respostas diferentes na mesma questão."
      ],
      "metadata": {
        "id": "RcbO4iLZi8oO"
      }
    },
    {
      "cell_type": "markdown",
      "source": [
        "**Aluno:** Felyppe Pardino da Silva"
      ],
      "metadata": {
        "id": "qOi7gzBi7ZHM"
      }
    },
    {
      "cell_type": "markdown",
      "source": [
        "#Questão 1 - Vale 1 ponto\n",
        "\n",
        "Usando apenas álgebra, resolva o seguinte problema:\n",
        "A concentração de um medicamento na corrente sanguínea t horas após a ingestão é dada por: $C(t) = (5t) / (t^2 + 4)$ Qual é a concentração a muito longo prazo deste medicamento em um paciente?"
      ],
      "metadata": {
        "id": "ES-8JaaFV9Qs"
      }
    },
    {
      "cell_type": "markdown",
      "source": [
        "Precisaremos calcular o limite da nossa função tendendo ao infinito:\n",
        "\n",
        "$$\\lim_{t \\to \\infty} \\frac{5t}{t^2 + 4}$$\n",
        "\n",
        "Podemos simplificar nossa expressão dividindo tanto denominador quanto numerador por $t^2$, considerando que ele é o termo de maior grau, ou termo dominante.\n",
        "\n",
        "$$\\lim_{t \\to \\infty} \\frac{5t/t^2}{(t^2 + 4)/t^2} = \\frac{5/t}{1+4/t^2}$$\n",
        "\n",
        "Note que tanto o denominador quanto o numerador tendem a zero, já que ambos crescem indefinidamente tendendendo ao infinito, tendo constantes tanto no numerador quanto denominador.\n",
        "\n",
        "Dessa forma, substituindo então $0$ na nossa função.\n",
        "\n",
        "$$\\lim_{t \\to \\infty}\\frac{5/t}{1+4/t^2} = \\frac{0}{1+0} = 0$$\n",
        "\n",
        "Podemos considerar então que\n",
        "\n",
        "$$\\lim_{{t \\to \\infty}} C(t) = 0$$\n",
        "\n",
        "Dessa forma, já que o limite de nosso $C(t)$ tendendo ao infinito é 0, podemos concluir que a longo prazo, a concentração do medicamento num paciente tende a ficar nula, a zerar."
      ],
      "metadata": {
        "id": "tOPuK026VSc8"
      }
    },
    {
      "cell_type": "markdown",
      "source": [
        "# Questão 2 - Vale até 1 ponto\n",
        "\n",
        "Usando apenas o Python, com as bibliotecas permitidas no enunciado, resolva o seguinte problema:\n",
        "A população de uma espécie de peixe em um lago é modelada pela função: $P(t) = (1000t) / (t + 5)$ onde $P(t)$ é o número de peixes após $t$ meses. (a) Qual é a população inicial de peixes no lago?; (b) Qual é a capacidade de suporte do lago, ou seja, a população máxima de peixes que o lago pode sustentar a longo prazo?; (c) Esboce um gráfico da função $P(t)$ e explique como ele se relaciona com as respostas das perguntas anteriores.\n"
      ],
      "metadata": {
        "id": "-aPaQK9kWTxx"
      }
    },
    {
      "cell_type": "markdown",
      "source": [
        "# Questão 3 - Vale até 1 ponto\n",
        "\n",
        "Usando ou álgebra ou o Python, resolva o seguinte problema:\n",
        "A temperatura $T(t)$ de um objeto em graus Celsius, $t$ minutos após ser retirado de um forno, é dada por: $T(t) = 200e^(-0.02t) + 25$. (a) Qual era a temperatura inicial do objeto quando foi retirado do forno?; (b) Qual é a temperatura ambiente, ou seja, a temperatura que o objeto se aproxima a longo prazo?; (c) Quanto tempo leva para a temperatura do objeto atingir 50 graus Celsius?"
      ],
      "metadata": {
        "id": "rZUVv127WuwH"
      }
    },
    {
      "cell_type": "markdown",
      "source": [
        "# Questão 4 - Vale até 1 ponto\n",
        "Uma partícula se move em linha reta ao longo do eixo *x*. Seu deslocamento é dado pela fórmula $s(t) = t^3 - 4t^2 + 7t$. Se o deslocamento está em metros e o tempo está em segundos, encontre: (a) A velocidade média $v_{avg}$ no intervalo de tempo $[4, 7]$; (b) A velocidade instantânea $v_{inst}$ em $t = 4 \\text{s}$.\n"
      ],
      "metadata": {
        "id": "x_-RKoyuZs7G"
      }
    },
    {
      "cell_type": "markdown",
      "source": [
        "a)\n",
        "Podemos iniciar calculando o deslocamento no intervalo de tempo.\n",
        "\n",
        "Deslocamento em $4$s:\n",
        "$$s(t) = 4^3 - 4(4)^2 + 7(4)$$\n",
        "$$= 64 - 4\\cdot16 + 28$$\n",
        "$$= 64 - 64 + 28$$\n",
        "$$= 28$$\n",
        "\n",
        "Deslocamento em $7$s:\n",
        "$$s(t) = t^3 - 4t^2 + 7t$$\n",
        "$$= 7^3 - 4(7)^2 + 7(7)$$\n",
        "$$= 343 - 4(49) + 49$$\n",
        "$$= 343 - 4(49) + 49$$\n",
        "$$= 343 - 196 + 49$$\n",
        "$$= 343 - 196 + 49$$\n",
        "$$= 196$$\n",
        "\n",
        "Com isso, podemos encontrar o deslocamento neste intervalo:\n",
        "\n",
        "$$\\Delta s = 196 - 28 = 168$$\n",
        "\n",
        "Agora o tempo:\n",
        "\n",
        "$$\\Delta t = 7 - 4 - 3s$$\n",
        "\n",
        "Considerando que encontramos velocidade média na relação entre deslocamento e tempo:\n",
        "\n",
        "$$v_{avg} = \\frac{168}{3} = 56 m/s$$.\n",
        "\n",
        "b)\n",
        "\n",
        "Podemos derivar o nosso $s(t)$. Aplicaremos a regra da soma e da diferença:\n",
        "\n",
        "$$\\frac{d}{dt}(t^3 - 4t^2 + 7t) = 3t^2 - 8t + 7$$\n",
        "\n",
        "Agora, então, para encontrar $v_{inst}$ em $4$s, podemos simplesmente substituir na nossa derivada:\n",
        "\n",
        "$$3\\cdot4^2 - 8 \\cdot 4 + 7$$\n",
        "$$3 \\cdot 16 - 32 + 7$$\n",
        "$$48 - 32 + 7$$\n",
        "$$23$$\n",
        "\n",
        "Assim sendo, concluímos que $v_{inst}$ em $4$s é $23$ m/s."
      ],
      "metadata": {
        "id": "OVaEX0HBN_16"
      }
    },
    {
      "cell_type": "markdown",
      "source": [
        "# Questão 5 - Vale até 1 ponto\n",
        "\n",
        "Uma empresa de produção de widgets tem uma função de receita $R(x) = 50x - 0.5x^2$ e uma função de custo $C(x) = 10x + 3$, onde $x$ é o número de widgets produzidos e vendidos.\n",
        "\n",
        "a) Determine a função de lucro $\\Pi(x)$, sabendo que lucro é o que sobra da receita depois que tiramos o custo.\n",
        "\n",
        "b) Calcule a quantidade de widgets $x$ que maximiza o lucro da empresa.\n"
      ],
      "metadata": {
        "id": "5NPs6UGaaiOb"
      }
    },
    {
      "cell_type": "markdown",
      "source": [
        "a)\n",
        "\n",
        "Considerando que lucro é o que sobra da receita após tirar o custo, a receita corresponde a $R(x)$, e o custo a $C(x)$:\n",
        "\n",
        "$$\\Pi(x) = (50x - 0.5x^2) - (10x + 3)$$\n",
        "\n",
        "Podemos tirar os termos dos parênteses:\n",
        "\n",
        "$$\\Pi(x) = 50x - 0.5x^2 - 10x - 3$$\n",
        "$$\\Pi(x) = 40x - 0.5x^2 - 3$$\n",
        "\n",
        "Reescrevendo para melhor visualização:\n",
        "\n",
        "$$\\Pi(x) = -0.5x^2 + 40x - 3$$\n",
        "\n",
        "b)\n",
        "\n",
        "Para encontrar a quantidade de widgets $x$ que maximiza o lucro da empresa, podemos iniciar derivando a nossa função. Utilizaremos a regra da soma e da diferença.\n",
        "\n",
        "$$\\frac{d}{dx} (-0.5x^2 + 40x - 3) = -0.5 \\cdot 2x + 40 + 0 = -1x + 40 = -x + 40$$\n",
        "\n",
        "Agora, podemos resolver a nossa derivada para zero para encontrarmos um ponto crítico:\n",
        "\n",
        "$$-x + 40 = 0$$\n",
        "$$-x = - 40$$\n",
        "$$x = 40$$\n",
        "\n",
        "Encontramos o ponto crítico $40$. Vamos agora encontrar a segunda derivada da nossa função para, logo após, descobrir se o ponto que encontramos agora é de máximo ou mínimo.\n",
        "\n",
        "$$\\frac{d^2}{dx^2} (-x + 40) = -1$$\n",
        "\n",
        "Veja que o valor que encontramos com a segunda derivada é menor do que 0. O que implica que $x = 40$ é, sim, um ponto de máximo.\n",
        "\n",
        "Concluimos entào que, a quantidade de widgest $x$ que maximiza o lucro da empresa é $40$.\n",
        "\n"
      ],
      "metadata": {
        "id": "bRrZl381JQ8z"
      }
    },
    {
      "cell_type": "markdown",
      "source": [
        "#  Questão 6 - Vale até 1 ponto\n",
        "\n",
        "Usando apenas Python, com as bibliotecas especificadas para esta avaliação.\n",
        "Uma empresa de turismo oferece passeios de barco em uma região costeira. A demanda pelos passeios varia ao longo do ano, sendo maior nos meses de verão e menor nos meses de inverno. A empresa modelou a demanda mensal (em número de passeios) como uma função da época do ano, representada pelo número do mês $t$ ($1$ para janeiro, $2$ para fevereiro, e assim por diante):\n",
        "\n",
        "$$D(t) = 500 + 200sen((π/6)(t - 7))$$\n",
        "\n",
        "O custo de operação de cada passeio também varia ao longo do ano, devido a fatores como o preço do combustível e a necessidade de manutenção extra nos meses de inverno. A empresa modelou o custo por passeio (em dólares) como:\n",
        "\n",
        "$$C(t) = 80 + 10cos((π/6)(t - 1))$$\n",
        "\n",
        "Sabendo que o preço dos passeios $P(t)$ é constante e tem o valor de $\\$100,00$. Além disso,  o lucro será dado por $Π(t) = R(t) - Custo_total = D(t) * P(t) - D(t) * C(t)$:\n",
        "\n",
        "a) Determine a função de receita mensal da empresa, $R(t)$, em termos de t.\n",
        "\n",
        "b) Encontre a função de lucro mensal da empresa, Π(t), em termos de t.\n",
        "\n",
        "c) Calcule o mês em que a empresa espera obter o lucro máximo e o valor desse lucro máximo.\n"
      ],
      "metadata": {
        "id": "qVh8UFDUbo6v"
      }
    },
    {
      "cell_type": "markdown",
      "source": [
        "# Questão 7 - Vale 1 ponto\n",
        "\n",
        "Usando apenas álgebra resolva o seguinte problema:\n",
        "um cone deve ter um volume de 48 cm³. Encontre a altura e o raio que minimizam a área da superfície do cone. Considere o seguinte diagrama:\n",
        "\n",
        "\n",
        "![image.png](data:image/png;base64,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)\n",
        "\n",
        "Sabendo que a equação que determina a área da superfície de um cone será:\n",
        "\n",
        "$$ S = \\pi r \\sqrt{r^2 + h^2} $$"
      ],
      "metadata": {
        "id": "AHh1ZrTJe28C"
      }
    },
    {
      "cell_type": "markdown",
      "source": [
        "# Questão 8 - Vale 1 ponto\n",
        "Usando álgebra, ou o Python, encontre o volume do sólido obtido pela rotação da região delimitada por $x = y^2 - 2$ e $y = x$ em torno da linha $y = 3$. Use o método das cascas cilíndricas.\n"
      ],
      "metadata": {
        "id": "b74s0SvHgeJ5"
      }
    },
    {
      "cell_type": "markdown",
      "source": [
        "Iniciaremos encontrando o ponto de intersecção. Uma forma de fazer isto é substituindo $y$ na equação $x$. Veja:\n",
        "\n",
        "$$x = x^2 - 2$$\n",
        "Igualando para zero:\n",
        "\n",
        "$$x^2 - 2 - x = 0$$\n",
        "\n",
        "Podemos resolver a expressão na qual chegamos fatorando-a:\n",
        "\n",
        "$$(x+2)(x-1) = 0$$\n",
        "\n",
        "O que nos deixa com $x=2$ e $x=-1$, nos dando os pontos de intersecção $(2,2)$ e $(-1,-1)$.\n",
        "\n",
        "Relembremos que para encontrar o volume com cascas cilíndricas, usamos a fórmula\n",
        "\n",
        "$$V = \\int_{a}^{b} (2\\pi xf(x)) dx$$\n",
        "\n",
        "Consideremos que a distância do eixo de rotação é $3 - y$.\n",
        "\n",
        "Substituímos então com o que temos:\n",
        "\n",
        "$$V = \\int_{-1}^{2} (2\\pi (3-x)(x^2 - 2 - x)) dx$$\n",
        "\n",
        "Vamos simplificar um pouco o que temos antes de integrar.\n",
        "\n",
        "$$(3-x)(x^2 - 2 - x) = 3x^2 - 6 - 3x - x^3 + 2x + x^2$$\n",
        "$$= -x^3 + 4x^2 - x - 6$$\n",
        "\n",
        "Agora podemos integrar:\n",
        "\n",
        "$$\\int_{-1}^{2} (-x^3 + 4x^2 - x - 6)$$"
      ],
      "metadata": {
        "id": "gqeIFwfDbXD4"
      }
    },
    {
      "cell_type": "markdown",
      "source": [
        "# Questão 9 - Vale 1 ponto\n",
        "\n",
        "Usando apenas álgebra, calcule a área da região delimitada pelas curvas $y = x^2$ e $y = 2x + 3$.\n",
        "\n"
      ],
      "metadata": {
        "id": "D2IgZMvuiIHd"
      }
    },
    {
      "cell_type": "markdown",
      "source": [
        "Primeiramente, temos que encontrar onde essas curvas se interseccionam. Podemos fazer isso igualando-as, e em seguida resolvendo para zero. Veja:\n",
        "\n",
        "$$x^2 = 2x + 3$$\n",
        "$$x^2 - 2x - 3 = 0$$\n",
        "\n",
        "Podemos agora proceder utilizando a fórmula quadrática de Bhaskara, em que:\n",
        "\n",
        "$$x = \\frac{-b \\pm \\sqrt{b^2 - 4ac}}{2a}$$\n",
        "\n",
        "Considerando $1$ como $a$, $-2$ como $b$ e $-3$ como $c$:\n",
        "\n",
        "$$x = \\frac{-2 \\pm \\sqrt{(-2)^2 - 4 \\cdot 1 \\cdot (-3)}}{2\\cdot1} = \\frac{-2 \\pm \\sqrt{4 + 12}}{2} = \\frac{2 \\pm \\sqrt{16}}{2} = \\frac{2 \\pm 4}{2}$$\n",
        "\n",
        "Desta forma, temos então como pontos de intersecção:\n",
        "\n",
        "$$x = \\frac{2 + 4}{2} = 3$$\n",
        "\n",
        "$$x = \\frac{2-4}{2} = -1$$\n",
        "\n",
        "Deixando assim, a integral da área entre as nossas curvas:\n",
        "\n",
        "$$\\int_{-1}^{3} ((2x + 3) - x^2) \\, dx$$\n",
        "\n",
        "Que simplificando, fica:\n",
        "\n",
        "$$\\int_{-1}^{3} (- x^2 + 2x + 3) \\, dx$$\n",
        "\n",
        "Agora, finalmente, vamos integrar:\n",
        "\n",
        "Integrando o $-x^2$:\n",
        "\n",
        "$$\\int -x^2 dx = - \\frac{1}{2 + 1} x^{2 + 1} = \\frac{1}{3}x^3 = -\\frac{x^3}{3}$$\n",
        "\n",
        "Integrando o $2x$:\n",
        "\n",
        "$$\\int 2xdx = x^2$$\n",
        "\n",
        "Ficamos então com:\n",
        "\n",
        "$$\\left[ -\\frac{x^3}{3} + x^2 + 3x \\right]_{-1}^{3}$$\n",
        "\n",
        "Podemos substituir os valores de $-1$ e $3$:\n",
        "\n",
        "$$\\left( -\\frac{(3)^3}{3} + (3)^2 + 3(3)\\right) - \\left(-\\frac{(-1)^3}{3} + (-1)^2 + 3(-1) \\right)$$\n",
        "\n",
        "Agora resolver algebricamente:\n",
        "\n",
        "$$\\left( -\\frac{9}{3} + 9 + 9\\right) - \\left(-\\frac{(-1)}{3} + 1^2 + (-3) \\right)$$\n",
        "\n",
        "$$\\left( -{9} + 9 + 9\\right) - \\left(\\frac{1}{3} + 1 -3 \\right)$$\n",
        "\n",
        "$$\\left(9\\right) - \\left(\\frac{1}{3} - 2 \\right) = 9 - \\left(\\frac{1}{3} - \\frac{6}{3}\\right) = 9 - \\left(\\frac{1 - 6}{3}\\right) = 9 - \\left(\\frac{-5}{3}\\right)$$\n",
        "\n",
        "$$= \\frac{27}{3} + \\frac{5}{3} = \\frac{32}{3}$$\n",
        "\n",
        "Temos, então, como área da região delimitada pelas curvas, $$\\frac{32}{3}$$."
      ],
      "metadata": {
        "id": "rSWv9LUu9ZkB"
      }
    },
    {
      "cell_type": "markdown",
      "source": [
        "# Questão 10 - Vale 1 ponto\n",
        "\n",
        "Usando o Python, calcule o volume do sólido obtido pela rotação da região delimitada pelas curvas $y = \\sqrt{x}$ e $y = 0$ em torno do eixo $x$, de $x = 0$ até $x = 4$. E trace o gráfico desta região no plano $(x,y)$.\n"
      ],
      "metadata": {
        "id": "oXxZf5-SiI30"
      }
    },
    {
      "cell_type": "code",
      "source": [
        "import numpy as np\n",
        "import matplotlib.pyplot as plt\n",
        "import sympy as sp\n",
        "\n",
        "x = sp.symbols('x')\n",
        "fun = x**(1/2)\n",
        "fun_2 = 0\n",
        "\n",
        "volume = sp.pi * sp.integrate((fun**2 - fun_2**2), (x, 0, 4))\n",
        "print(f'volume do sólido de revolução é: {volume}')\n",
        "\n",
        "x_vals = np.linspace(0, 4, 100)\n",
        "fun_vals = np.sqrt(x_vals)\n",
        "\n",
        "plt.plot(x_vals, fun_vals, label='$y = \\sqrt{x}$')\n",
        "plt.plot(x_vals, np.zeros_like(x_vals), label='$y = 0$')\n",
        "\n",
        "plt.fill_between(x_vals, fun_vals, np.zeros_like(x_vals), alpha=0.3)\n",
        "\n",
        "plt.xlabel('x')\n",
        "plt.ylabel('y')\n",
        "plt.title('regiao delimitada pelas curvas')\n",
        "plt.legend()\n",
        "plt.grid(True)\n",
        "plt.show()"
      ],
      "metadata": {
        "colab": {
          "base_uri": "https://localhost:8080/",
          "height": 489
        },
        "id": "DS0BqNhqek4j",
        "outputId": "34e057f1-6fb2-463a-d8a7-12da5c91f9a5"
      },
      "execution_count": 19,
      "outputs": [
        {
          "output_type": "stream",
          "name": "stdout",
          "text": [
            "volume do sólido de revolução é: 8.0*pi\n"
          ]
        },
        {
          "output_type": "display_data",
          "data": {
            "text/plain": [
              "<Figure size 640x480 with 1 Axes>"
            ],
            "image/png": "[encoded data removed]"
          },
          "metadata": {}
        }
      ]
    }
  ]
}