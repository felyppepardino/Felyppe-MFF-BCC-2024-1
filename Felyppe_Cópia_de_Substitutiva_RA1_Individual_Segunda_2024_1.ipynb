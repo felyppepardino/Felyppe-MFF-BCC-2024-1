{
  "nbformat": 4,
  "nbformat_minor": 0,
  "metadata": {
    "colab": {
      "provenance": [],
      "include_colab_link": true
    },
    "kernelspec": {
      "name": "python3",
      "display_name": "Python 3"
    },
    "language_info": {
      "name": "python"
    }
  },
  "cells": [
    {
      "cell_type": "markdown",
      "metadata": {
        "id": "view-in-github",
        "colab_type": "text"
      },
      "source": [
        "<a href=\"https://colab.research.google.com/github/felyppepardino/Felyppe-ReRA1-MFF-BCC-2024-1/blob/main/Felyppe_C%C3%B3pia_de_Substitutiva_RA1_Individual_Segunda_2024_1.ipynb\" target=\"_parent\"><img src=\"https://colab.research.google.com/assets/colab-badge.svg\" alt=\"Open In Colab\"/></a>"
      ]
    },
    {
      "cell_type": "markdown",
      "source": [
        "# Avaliação em INDIVIDUAL RA1 - 2024-1\n",
        "\n",
        "**Antes de começar, leia estas instruções cuidadosamente.**\n",
        "Esta avaliação é individual. Você poderá consultar qualquer fonte disponível na biblioteca, suas anotações ou na internet. Mas, não poderá consultar outras pessoas.\n",
        "\n",
        "Não existirão prorrogações de prazo de entrega.\n",
        "\n",
        "**Trabalhos idênticos entregues por pessoas, diferentes, serão zerados.**\n",
        "\n",
        "Todos os trabalhos serão entregues em uma cópia deste caderno de atividades na forma de um link postado no AVA da instituição (Canvas). Todos os enunciados devem ser preservados e você deverá inserir uma célula de textos com o **seu nome**, logo após esta célula de texto de instruções.\n",
        "\n",
        "Qualquer alteração do caderno contendo as suas respostas que seja registrada após a data de postagem provocará a anulação da avaliação.\n",
        "\n",
        "Você poderá usar, neste notebook, apenas a linguagem python limitada ao uso das seguintes bibliotecas: numpy, sympy, matplotlib, ipWidgets e IPython. Todo e qualquer gráfico deverá ser criado usando o Python.\n",
        "\n",
        "Entrega será realizada com a postagem de um link para um ambiente de execução, no AVA da institução. Neste link o seu caderno deve permitir ser executado (permissão de leitor). Serão aceitos links diretos ao ambiente do Google Colaboratory, ou Links a um caderno do Google Colaboratory que tenha sido salvo pelo próprio Google Colaboratory no GitHub. Links para outro ambiente, ou que requeiram qualquer tipo de download, cliques extras, ou ainda, que requeiram aprovação para acesso, provocarão o zeramento desta avaliação.\n",
        "\n",
        "Todas as suas simplificações e considerações serão levadas em consideração. Contudo, lembre-se que estas questões devem ser resolvidas com álgebra formal e apenas álgebra.\n",
        "\n",
        "Se você encontrar algo errado nesta avaliação simplesmente anote suas observações na própria questão. Suas observações serão consideradas durante a avaliação e, em caso de pertinência, poderão encejar a anulação do item, ou questão, a critério do professor.\n",
        "\n",
        "Não é permitido usar qualquer técnica matemática baseada em derivação, cálculo numérico, séries de Taylor ou Leibntz, ou que fuja dos conteúdos apresenados em aula referentes ao estudo dos conteúdos referentes a esta avaliação.\n",
        "\n",
        "Esta avaliação aborda os conteúdos referentes a limites, fórmula das diferenças finitas e tangentes.\n",
        "\n",
        "**Lembrem-se a interpretação faz parte da questão.**"
      ],
      "metadata": {
        "id": "IYWLM47FgvAt"
      }
    },
    {
      "cell_type": "markdown",
      "source": [
        "**Aluno:** Felyppe Pardino da Silva"
      ],
      "metadata": {
        "id": "SpNBPt49xmjm"
      }
    },
    {
      "cell_type": "markdown",
      "source": [
        "## Questões\n",
        "Usando apenas álgebra encontre o limites solicitados a seguir e faça uma análise dos resultados encontrados. Para fazer a análise você pode usar as ferramentas que desejar, desde que seja possível verificar a validade das suas afirmações usando apenas este caderno de avaliação.\n",
        "\n",
        "Lembre-se você deve usar notação matemática na sua resposta. O que implica no uso de Latex nas células de texto deste caderno de avaliação.\n",
        "\n",
        "Observe que o cálculo do valor de tendência do limite, usando uma calculadora, site, ou ferramenta qualquer, por si só não pode ser usado como argumento na sua análise. Isso quer dizer que justificativas como o limite é $w$ porque o Sympy disse que era esse valor, não serão aceitas.\n"
      ],
      "metadata": {
        "id": "Hffk6Rtmhaga"
      }
    },
    {
      "cell_type": "markdown",
      "source": [
        "### Exercício 1\n",
        "$$ \\lim_{x \\to 1} \\frac{x^2 - 1}{x - 1} $$\n",
        "\n",
        "Vamos tentar resolver pela substituição direta:\n",
        "\n",
        "$$\\lim_{x \\to 1} \\frac{1^2 - 1}{1 - 1} = \\frac{0}{0}$$\n",
        "\n",
        "Temos uma indeterminação. No entanto, note que o nosso numerador é uma diferença de quadrados. Ou seja, podemos reescrevê-lo da seguinte forma:\n",
        "\n",
        "$$x^2 - 1 = x^2 - 1^2 = (x + 1)(x - 1)$$\n",
        "\n",
        "Podemos então, realizar o cancelamento do termo $(x - 1)$:\n",
        "\n",
        "$$\\frac{(x + 1)(x - 1)}{(x - 1)} = x + 1$$\n",
        "\n",
        "Agora vamos apenas substituir novamente:\n",
        "\n",
        "$$\\lim_{x \\to 1} x + 1 = 1 + 1 = 2$$\n",
        "\n",
        "Vamos confirmar o que encontramos com base nas aproximações laterais:\n",
        "\n",
        "\\begin{array}{|c|c|c|c|}\\hline\n",
        "Aprox. esquerda & Valor & Aprox. direita & Valor \\\\ \\hline\n",
        "0.9000 & 1.9000 & 1.1000 & 2.1000 \\\\\n",
        "0.9900 & 1.9900 & 1.0100 & 2.0100 \\\\\n",
        "0.9990 & 1.9989 & 1.0010 & 2.0009 \\\\\n",
        "0.9999 & 1.9998 & 1.0001 & 2.00009 \\\\ \\hline\n",
        "\\end{array}\n",
        "\n",
        "Quanto mais o valor de $x$ se aproxima de 1, mais o valor do limite se aproxima de 2.\n",
        "\n",
        "\n",
        "Logo, podemos, sim, afirmar que:\n",
        "\n",
        "$$ \\lim_{x \\to 1} \\frac{x^2 - 1}{x - 1} = 2$$"
      ],
      "metadata": {
        "id": "YabK78jfzv0K"
      }
    },
    {
      "cell_type": "code",
      "source": [
        "import sympy as sym\n",
        "\n",
        "x = sym.symbols('x')\n",
        "\n",
        "eqtop = (x**2 - 1)\n",
        "eqbot = (x - 1)\n",
        "\n",
        "# Utilizando o sympy para agilizar o calculo das aproximacoes\n",
        "eq = eqtop/eqbot\n",
        "sym.limit(eq, x, 1.0001)"
      ],
      "metadata": {
        "colab": {
          "base_uri": "https://localhost:8080/",
          "height": 37
        },
        "id": "ba1RAQ511FBb",
        "outputId": "1fe790a3-4428-414a-a851-04fcf4625522"
      },
      "execution_count": 28,
      "outputs": [
        {
          "output_type": "execute_result",
          "data": {
            "text/plain": [
              "2.00009999999939"
            ],
            "text/latex": "$\\displaystyle 2.00009999999939$"
          },
          "metadata": {},
          "execution_count": 28
        }
      ]
    },
    {
      "cell_type": "markdown",
      "source": [
        "### Exercício 2\n",
        "$$ \\lim_{x \\to 3} \\frac{x^2 - x - 6}{x^2 - 9} $$\n",
        "\n",
        "Vamos tentar substituição direta:\n",
        "\n",
        "$$ \\lim_{x \\to 3} \\frac{3^2 - 3 - 6}{3^2 - 9} = \\frac{0}{0}$$\n",
        "\n",
        "Temos uma indeterminação. No entanto, já podemos ver que temos diferença de quadrados no denominador. Vamos reescrevê-lo, então:\n",
        "\n",
        "$$x^2 - 9 = x^2 - 3^2 = (x + 3)(x - 3)$$\n",
        "\n",
        "Veja que podemos utilizar o termo $(x - 3)$ para fatorar o numerador também, resultando em:\n",
        "\n",
        "$$(x - 3)(x + 2)$$\n",
        "\n",
        "Temos:\n",
        "\n",
        "$$\\frac{(x - 3)(x + 2)}{(x + 3)(x - 3)}$$\n",
        "\n",
        "Podemos, então, cancelar o termo $(x - 3)$ e partir para a substituição.\n",
        "\n",
        "$$\\lim_{x \\to 3} = \\frac{x + 2}{x + 3} = \\frac{3 + 2}{3 + 3} = \\frac{5}{6}$$\n",
        "\n",
        "Considerando que $\\frac{5}{6} = 0.83333333...$ Vamos validar o que encontramos com base nas aproximações laterais.\n",
        "\n",
        "\\begin{array}{|c|c|c|c|}\\hline\n",
        "Aprox. esquerda & Valor & Aprox. direita & Valor \\\\ \\hline\n",
        "2.9000 & 0.8305 & 3.1000 & 0.8360 \\\\\n",
        "2.9900 & 0.8330 & 3.0100 & 0.8336 \\\\\n",
        "2.9990 & 0.8333 & 3.0010 & 0.8333 \\\\\n",
        "2.9999 & 0.83333 & 3.0001 & 0.83333 \\\\ \\hline\n",
        "\\end{array}\n",
        "\n",
        "Então,\n",
        "$$\\lim_{x \\to 3} \\frac{x^2 - x - 6}{x^2 - 9}  = \\frac{5}{6}$$"
      ],
      "metadata": {
        "id": "3ToSO8VG1HHG"
      }
    },
    {
      "cell_type": "code",
      "source": [
        "import sympy as sym\n",
        "\n",
        "x = sym.symbols('x')\n",
        "\n",
        "eqtop = (x**2 - x - 6)\n",
        "eqbot = (x**2 - 9)\n",
        "\n",
        "# Utilizando o sympy para agilizar o calculo das aproximacoes\n",
        "eq = eqtop/eqbot\n",
        "sym.limit(eq, x, 3.0001)"
      ],
      "metadata": {
        "colab": {
          "base_uri": "https://localhost:8080/",
          "height": 37
        },
        "id": "GE0U3kfLBpMa",
        "outputId": "8a249474-a6bd-46a0-f7a9-e5197a1a4163"
      },
      "execution_count": 37,
      "outputs": [
        {
          "output_type": "execute_result",
          "data": {
            "text/plain": [
              "0.833336111065539"
            ],
            "text/latex": "$\\displaystyle 0.833336111065539$"
          },
          "metadata": {},
          "execution_count": 37
        }
      ]
    },
    {
      "cell_type": "markdown",
      "source": [
        "### Exercício 3\n",
        "$$\n",
        "\\lim_{x \\to 1} f(x) \\text{ onde } f(x) = \\begin{cases}\n",
        "2x+1 & x \\leq 1 \\\\\n",
        "x^2 + 1 & x > 1\n",
        "\\end{cases}\n",
        "$$\n",
        "\n",
        "Temos que, primeiramente, calcular cada um dos casos separadamente.\n",
        "\n",
        "Primeiro caso:\n",
        "$$\\lim_{x \\to 1^-} 2x + 1 = 2 \\cdot 1 + 1 = 3$$\n",
        "\n",
        "Segundo caso:\n",
        "\n",
        "$$\\lim_{x \\to 1^+} x^2 + 1 = 1^2 + 1 = 2$$\n",
        "\n",
        "Note que cada caso teve um valor diferente. Vamos tentar analisar lateralmente para podermos chegar a uma conclusão.\n",
        "\n",
        "\\begin{array}{|c|c|c|c|}\\hline\n",
        "Aprox. esquerda & Valor & Aprox. direita & Valor \\\\ \\hline\n",
        "0.9000 & 2.8000 & 1.1000 & 3.2000 \\\\\n",
        "0.9900 & 2.9800 & 1.0100 & 3.0200 \\\\\n",
        "0.9990 & 2.9980 & 1.0010 & 3.0020 \\\\\n",
        "0.9999 & 2.9998 & 1.0001 & 3.0002 \\\\ \\hline\n",
        "\\end{array}"
      ],
      "metadata": {
        "id": "MbvfDPA-8fC-"
      }
    },
    {
      "cell_type": "code",
      "source": [
        "import sympy as sym\n",
        "\n",
        "x = sym.symbols('x')\n",
        "\n",
        "# Utilizando o sympy para agilizar o calculo das aproximacoes\n",
        "eq = 2*x + 1\n",
        "\n",
        "sym.limit(eq, x, 1.0001)"
      ],
      "metadata": {
        "colab": {
          "base_uri": "https://localhost:8080/",
          "height": 37
        },
        "id": "HhDdZv4Q-XlO",
        "outputId": "32467529-0723-46a1-c533-f88cb827788d"
      },
      "execution_count": 44,
      "outputs": [
        {
          "output_type": "execute_result",
          "data": {
            "text/plain": [
              "3.00020000000000"
            ],
            "text/latex": "$\\displaystyle 3.0002$"
          },
          "metadata": {},
          "execution_count": 44
        }
      ]
    },
    {
      "cell_type": "markdown",
      "source": [
        "### Exercício 4\n",
        "$$\\lim_{x \\to -\\infty} (\\sqrt{x^2 - x} - x)$$\n",
        "\n",
        "**Atenção**: o sympy parece não calcular o Exercício 4 corretamente.\n",
        "\n",
        "### Exercício 5\n",
        "$$ \\lim_{x \\to \\infty} \\frac{4x^2 + 3x - 5}{2x^2 - x + 1} $$\n",
        "\n",
        "As análises podem ser feitas por meio da análise gráfica, ou da ánálise dos limites laterais (aproximações pela esquerda e pela direita. Serão avaliadas de acordo com o que for apresentado por cada aluno.\n",
        "\n",
        "**Rúbrica de avaliação**: cada limite corretamente determinado com a algebra demonstrada em notação matemática 1 ponto; cada análise consistente 1 ponto. Total 2 pontos por questão implicando em, no máximo 10 pontos."
      ],
      "metadata": {
        "id": "C0mGbcqpzzoR"
      }
    }
  ]
}